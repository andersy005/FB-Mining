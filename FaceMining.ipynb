{
 "cells": [
  {
   "cell_type": "markdown",
   "metadata": {},
   "source": [
    "# The Social Graph API"
   ]
  },
  {
   "cell_type": "markdown",
   "metadata": {},
   "source": [
    "**1. Querying the GRAPH API **"
   ]
  },
  {
   "cell_type": "code",
   "execution_count": 21,
   "metadata": {
    "collapsed": true
   },
   "outputs": [],
   "source": [
    "import facebook\n",
    "import json"
   ]
  },
  {
   "cell_type": "code",
   "execution_count": 22,
   "metadata": {
    "collapsed": true
   },
   "outputs": [],
   "source": [
    "# A helper function to  pretty-print Python objects as JSON\n",
    "def pp(o):\n",
    "    print json.dumps(o, indent=1)"
   ]
  },
  {
   "cell_type": "code",
   "execution_count": 23,
   "metadata": {
    "collapsed": true
   },
   "outputs": [],
   "source": [
    "# create a connection to tne Graph API with access token\n",
    "ACCESS_TOKEN ='EAANkauSYRYABANoihHRbqQSNVJeWhtZBicAmQtGnyw37BLPXotfDX9jvqS4hRPqF\\\n",
    "SXamDCXFPHF4KptR7Q5GhKDBodz513PR0tsmBwMGWG9N5kJ981Vl3Jm8y8ZBfYKQ9rS6oFlzZA9DDyy7\\\n",
    "H2XDqxN2qU8ZBhZBfoytHrZBZCiqf5dVVDEDFDOv9iVDr9fIRgZD'"
   ]
  },
  {
   "cell_type": "code",
   "execution_count": 24,
   "metadata": {
    "collapsed": false
   },
   "outputs": [],
   "source": [
    "g = facebook.GraphAPI(ACCESS_TOKEN)"
   ]
  },
  {
   "cell_type": "code",
   "execution_count": 25,
   "metadata": {
    "collapsed": true
   },
   "outputs": [],
   "source": [
    "# Execute a few sample queries"
   ]
  },
  {
   "cell_type": "code",
   "execution_count": 31,
   "metadata": {
    "collapsed": false
   },
   "outputs": [
    {
     "name": "stdout",
     "output_type": "stream",
     "text": [
      "--------------------\n",
      "Me\n",
      "--------------------\n",
      "{\n",
      " \"name\": \"Anderson Banihirwe\", \n",
      " \"id\": \"1095068677225416\"\n",
      "}\n",
      "\n"
     ]
    }
   ],
   "source": [
    "print'--------------------'\n",
    "print'Me'\n",
    "print'--------------------'\n",
    "pp(g.get_object('me'))\n",
    "print"
   ]
  },
  {
   "cell_type": "code",
   "execution_count": 32,
   "metadata": {
    "collapsed": false
   },
   "outputs": [
    {
     "name": "stdout",
     "output_type": "stream",
     "text": [
      "------------------\n",
      "My Friends\n",
      "------------------\n",
      "{\n",
      " \"data\": [], \n",
      " \"summary\": {\n",
      "  \"total_count\": 565\n",
      " }\n",
      "}\n",
      "\n"
     ]
    }
   ],
   "source": [
    "print'------------------'\n",
    "print'My Friends'\n",
    "print'------------------'\n",
    "pp(g.get_connections('me', 'friends'))\n",
    "print"
   ]
  },
  {
   "cell_type": "code",
   "execution_count": 33,
   "metadata": {
    "collapsed": false
   },
   "outputs": [
    {
     "name": "stdout",
     "output_type": "stream",
     "text": [
      "----------------\n",
      "NBA\n",
      "----------------\n",
      "{\n",
      " \"paging\": {\n",
      "  \"cursors\": {\n",
      "   \"after\": \"MjQZD\", \n",
      "   \"before\": \"MAZDZD\"\n",
      "  }, \n",
      "  \"next\": \"https://graph.facebook.com/v2.7/search?access_token=EAANkauSYRYABANoihHRbqQSNVJeWhtZBicAmQtGnyw37BLPXotfDX9jvqS4hRPqFSXamDCXFPHF4KptR7Q5GhKDBodz513PR0tsmBwMGWG9N5kJ981Vl3Jm8y8ZBfYKQ9rS6oFlzZA9DDyy7H2XDqxN2qU8ZBhZBfoytHrZBZCiqf5dVVDEDFDOv9iVDr9fIRgZD&q=NBA&type=page&limit=25&after=MjQZD\"\n",
      " }, \n",
      " \"data\": [\n",
      "  {\n",
      "   \"name\": \"NBA\", \n",
      "   \"id\": \"8245623462\"\n",
      "  }, \n",
      "  {\n",
      "   \"name\": \"NBA Memes\", \n",
      "   \"id\": \"367810133247517\"\n",
      "  }, \n",
      "  {\n",
      "   \"name\": \"NBA Buzz\", \n",
      "   \"id\": \"172635502843901\"\n",
      "  }, \n",
      "  {\n",
      "   \"name\": \"NBA on ESPN\", \n",
      "   \"id\": \"31881783642\"\n",
      "  }, \n",
      "  {\n",
      "   \"name\": \"NBA TV\", \n",
      "   \"id\": \"304301822935731\"\n",
      "  }, \n",
      "  {\n",
      "   \"name\": \"NBA updates\", \n",
      "   \"id\": \"117205644990200\"\n",
      "  }, \n",
      "  {\n",
      "   \"name\": \"NBA 2K\", \n",
      "   \"id\": \"221292025304\"\n",
      "  }, \n",
      "  {\n",
      "   \"name\": \"NBA.com\", \n",
      "   \"id\": \"1531811777052271\"\n",
      "  }, \n",
      "  {\n",
      "   \"name\": \"NBA on TNT\", \n",
      "   \"id\": \"40266450723\"\n",
      "  }, \n",
      "  {\n",
      "   \"name\": \"NbaReligion.com\", \n",
      "   \"id\": \"449212891789574\"\n",
      "  }, \n",
      "  {\n",
      "   \"name\": \"NBA 2K16\", \n",
      "   \"id\": \"806626522706925\"\n",
      "  }, \n",
      "  {\n",
      "   \"name\": \"NBA Summer League\", \n",
      "   \"id\": \"106102338572\"\n",
      "  }, \n",
      "  {\n",
      "   \"name\": \"NBA from B/R\", \n",
      "   \"id\": \"482556445104958\"\n",
      "  }, \n",
      "  {\n",
      "   \"name\": \"NBAStore.com\", \n",
      "   \"id\": \"36934781346\"\n",
      "  }, \n",
      "  {\n",
      "   \"name\": \"NBA France\", \n",
      "   \"id\": \"84801381166\"\n",
      "  }, \n",
      "  {\n",
      "   \"name\": \"Nba Infos\", \n",
      "   \"id\": \"183564055042993\"\n",
      "  }, \n",
      "  {\n",
      "   \"name\": \"NBA+\", \n",
      "   \"id\": \"292940960721017\"\n",
      "  }, \n",
      "  {\n",
      "   \"name\": \"NBA Taiwan\", \n",
      "   \"id\": \"1376695819294068\"\n",
      "  }, \n",
      "  {\n",
      "   \"name\": \"NBA Turkiye\", \n",
      "   \"id\": \"105561142424\"\n",
      "  }, \n",
      "  {\n",
      "   \"name\": \"NBA Trade Information, Rumours, Team Changes & Stats\", \n",
      "   \"id\": \"240172469419745\"\n",
      "  }, \n",
      "  {\n",
      "   \"name\": \"NBA Hell\\u00e1s\", \n",
      "   \"id\": \"83679811777\"\n",
      "  }, \n",
      "  {\n",
      "   \"name\": \"NBA 2K14\", \n",
      "   \"id\": \"559245604114099\"\n",
      "  }, \n",
      "  {\n",
      "   \"name\": \"NBA 24/7\", \n",
      "   \"id\": \"236831853087357\"\n",
      "  }, \n",
      "  {\n",
      "   \"name\": \"NBA 2K15\", \n",
      "   \"id\": \"560015280790754\"\n",
      "  }, \n",
      "  {\n",
      "   \"name\": \"NBA UK\", \n",
      "   \"id\": \"77947265015\"\n",
      "  }\n",
      " ]\n",
      "}\n"
     ]
    }
   ],
   "source": [
    "print'----------------'\n",
    "print'NBA'\n",
    "print'----------------'\n",
    "pp(g.request(\"search\", {'q':'NBA', 'type':'page'}))"
   ]
  },
  {
   "cell_type": "code",
   "execution_count": null,
   "metadata": {
    "collapsed": true
   },
   "outputs": [],
   "source": []
  }
 ],
 "metadata": {
  "kernelspec": {
   "display_name": "Python 2",
   "language": "python",
   "name": "python2"
  },
  "language_info": {
   "codemirror_mode": {
    "name": "ipython",
    "version": 2
   },
   "file_extension": ".py",
   "mimetype": "text/x-python",
   "name": "python",
   "nbconvert_exporter": "python",
   "pygments_lexer": "ipython2",
   "version": "2.7.12"
  }
 },
 "nbformat": 4,
 "nbformat_minor": 0
}
